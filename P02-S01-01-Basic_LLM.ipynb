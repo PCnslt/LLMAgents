{
 "cells": [
  {
   "attachments": {},
   "cell_type": "markdown",
   "id": "d9e8eaec-b1ce-4d64-926e-012af3b37b42",
   "metadata": {},
   "source": [
    "# Run a script to interact with chatGPT \n",
    "\n",
    "Now that we have a python environment equipped to communicate with OpenAI, let’s interact with ChatGPT from it! \n",
    "Let's first import the `openai` package."
   ]
  },
  {
   "cell_type": "code",
   "execution_count": 7,
   "id": "37177dc0-00f1-4ea4-be8e-417a963ad0a9",
   "metadata": {},
   "outputs": [],
   "source": [
    "from dotenv import load_dotenv\n",
    "import os\n",
    "from openai import OpenAI"
   ]
  },
  {
   "cell_type": "markdown",
   "id": "054ad39e-1151-460d-87d9-9ed41f50e792",
   "metadata": {},
   "source": [
    "We are now going to create a `client` object that will be used to connect with OpenAI. We're going to use our OpenAI API key to point toward our OpenAI account and use our credit, the connection will otherwise be refused."
   ]
  },
  {
   "cell_type": "code",
   "execution_count": 9,
   "id": "84bb8b15-e88b-4566-a61b-764485be9167",
   "metadata": {},
   "outputs": [],
   "source": [
    "# Load environment variables from .env file\n",
    "load_dotenv()\n",
    "\n",
    "# Fetch the API key from the environment\n",
    "api_key = os.getenv(\"OPENAI_API_KEY\")\n",
    "\n",
    "# Initialize the OpenAI client\n",
    "client = OpenAI(api_key=api_key)\n",
    "\n",
    "# # Test the client (optional)\n",
    "# response = client.chat.completions.create(\n",
    "#     model=\"gpt-3.5-turbo\",\n",
    "#     messages=[{\"role\": \"user\", \"content\": \"Hello, world!\"}]\n",
    "# )\n",
    "# print(response.choices[0].message.content)"
   ]
  },
  {
   "cell_type": "markdown",
   "id": "e9b73e5d-50ff-4cdb-a017-e2b8a48eac53",
   "metadata": {},
   "source": [
    "If your API key is valid, you should not get any error messages. \n",
    "\n",
    "Next, we are going to use a basic command from the OpenAI command to basically chat with chatGPT3.5-turbo. We'll use chatGPT4 in this class, but the cost of 3.5 is much cheaper, so whenever we don't really need the performance of 4, we'll rely on 3.5. \n",
    "\n",
    "## The system prompt\n",
    "\n",
    "An important difference with how you use chatGPT on your browser is that we'll specify a `system prompt` message.\n",
    "\n",
    "The `system prompt` basically asks chatGPT to adopt a certain role for the following conversation. \n",
    "We specify the system prompt with: `\"role\": \"system\"`. \n",
    "\n",
    "We then send a request using `\"role\": \"user\"`.\n",
    "\n",
    "## Sending our first request\n",
    "\n",
    "Let's ask chatGPT3.5 to answer a message while playing a specifc role, we'll use a standard example here.\n",
    "\n",
    "The **system prompt** is: \"*You are a poetic assistant, skilled in explaining complex programming concepts with creative flair.*\";  \n",
    "And the **message** is: \"*Compose a poem that explains the concept of recursion in programming.*\""
   ]
  },
  {
   "cell_type": "code",
   "execution_count": 11,
   "id": "06dcb55b-2b51-40ac-b552-cb8410ac3967",
   "metadata": {},
   "outputs": [],
   "source": [
    "completion = client.chat.completions.create(\n",
    "  model=\"gpt-4o-mini\",\n",
    "  messages=[\n",
    "    {\"role\": \"system\", \"content\": \"You are a poetic assistant, skilled in explaining complex programming concepts with creative flair.\"},\n",
    "    {\"role\": \"user\", \"content\": \"Compose a poem that explains the concept of recursion in programming.\"}\n",
    "  ]\n",
    ")"
   ]
  },
  {
   "cell_type": "markdown",
   "id": "171dab51-5155-4ce8-82e1-b92d49289ef2",
   "metadata": {},
   "source": [
    "If we don't get any error message, this means that the request went well and that we can now display its result. The result will be stored in the `choices` field of the `completion` object. We can display it using."
   ]
  },
  {
   "cell_type": "code",
   "execution_count": 13,
   "id": "8e84e6b4-029c-41f0-b991-55a0f7f7f4ea",
   "metadata": {},
   "outputs": [
    {
     "name": "stdout",
     "output_type": "stream",
     "text": [
      "ChatCompletionMessage(content=\"In the realm of code where logic flows,  \\nThere lies a dance, a tale that grows,  \\nA whisper soft, a looping song,  \\nIn the heart of recursion, we find where we belong.  \\n\\nImagine a mirror, reflecting just so,  \\nEach glance returns what we already know,  \\nA call within calls, like echoes in caves,  \\nEach step towards answers, our logic paves.  \\n\\n“Hello, dear function!” the program might say,  \\n“Call yourself gently to guide the way,”  \\nWith inputs so small, a base case in sight,  \\nTo stop the recursion and end the long night.  \\n\\nFor in this sweet loop, a pattern unfolds,  \\nLike stories of old, where memory holds,  \\nA chef at the stove, who cooks dish by dish,  \\nPrepares all the layers to fulfill one grand wish.  \\n\\n“First, chop the onions. Now call my own blend,  \\nThen dice up the tomatoes, my recipe's friend.”  \\nEach flavor layers, the work interweaves,  \\nTill the pot is all simmered, perfumed with beliefs.  \\n\\nYet beware, dear coder, of infinite nights,  \\nFor without a base case, you'll venture to heights,  \\nWhere calls stack up high — oh, what a dismay!  \\nThe stack will run out, and lead you astray.  \\n\\nSo armed with your wisdom, the rules to adhere,  \\nWith base, call, and resolve, the path will be clear,  \\nIn function’s warm embrace, let logic transpire,  \\nRecursion, a dance that takes us higher and higher.  \\n\\nFrom factorials counting to Fibonacci’s grace,  \\nIn each line of code, recursion finds its place,  \\nEmbrace this soft spiral, let the magic unbind,  \\nIn the code that you write, the beauty you’ll find.\", refusal=None, role='assistant', annotations=[], audio=None, function_call=None, tool_calls=None)\n"
     ]
    }
   ],
   "source": [
    "print(completion.choices[0].message)"
   ]
  },
  {
   "cell_type": "code",
   "execution_count": 17,
   "id": "a41af65e-a03a-49a8-b9d5-0ea420b8fc5f",
   "metadata": {},
   "outputs": [
    {
     "ename": "SyntaxError",
     "evalue": "invalid syntax. Perhaps you forgot a comma? (1817485560.py, line 1)",
     "output_type": "error",
     "traceback": [
      "\u001b[0;36m  Cell \u001b[0;32mIn[17], line 1\u001b[0;36m\u001b[0m\n\u001b[0;31m    print(completion.choices[])\u001b[0m\n\u001b[0m          ^\u001b[0m\n\u001b[0;31mSyntaxError\u001b[0m\u001b[0;31m:\u001b[0m invalid syntax. Perhaps you forgot a comma?\n"
     ]
    }
   ],
   "source": [
    "print(completion.choices)"
   ]
  },
  {
   "cell_type": "code",
   "execution_count": null,
   "id": "14d03aff-025f-4ed7-8f4e-b12a671fda6e",
   "metadata": {},
   "outputs": [],
   "source": [
    "from dotenv import load_dotenv\n",
    "import os\n",
    "from deepseek import DeepSeekModel\n",
    "\n",
    "# Load environment variables from .env file\n",
    "load_dotenv()\n",
    "\n",
    "# Fetch the API key from the environment (if needed for DeepSeek)\n",
    "api_key = os.getenv(\"DEEPSEEK_API_KEY\")  # Replace with the correct environment variable name\n",
    "\n",
    "# Initialize the DeepSeek model\n",
    "model = DeepSeekModel.load_latest(api_key=api_key)  # Pass the API key if required\n",
    "\n",
    "# Test the model (optional)\n",
    "# response = model.generate(prompt=\"Hello, world!\")\n",
    "# print(response)\n",
    "\n",
    "# Generate a poetic explanation of recursion using DeepSeek\n",
    "response = model.generate(\n",
    "    prompt=\"Compose a poem that explains the concept of recursion in programming.\"\n",
    ")\n",
    "\n",
    "# Print the generated response\n",
    "print(response)\n",
    "\n",
    "# If the response is structured similarly to OpenAI's completion object:\n",
    "# print(response.choices[0].message)  # Adjust based on DeepSeek's response format\n",
    "# print(response.choices)  # Adjust based on DeepSeek's response format"
   ]
  },
  {
   "cell_type": "markdown",
   "id": "42586d5c-ecb6-4a33-bad0-136f124f87eb",
   "metadata": {},
   "source": [
    "So we were just able to interact with OpenAI's chatGPT from python! This is the first step necessary to build AI apps that rely on agents!"
   ]
  }
 ],
 "metadata": {
  "kernelspec": {
   "display_name": "Python 3 (ipykernel)",
   "language": "python",
   "name": "python3"
  },
  "language_info": {
   "codemirror_mode": {
    "name": "ipython",
    "version": 3
   },
   "file_extension": ".py",
   "mimetype": "text/x-python",
   "name": "python",
   "nbconvert_exporter": "python",
   "pygments_lexer": "ipython3",
   "version": "3.12.7"
  }
 },
 "nbformat": 4,
 "nbformat_minor": 5
}
